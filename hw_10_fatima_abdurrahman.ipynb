{
 "cells": [
  {
   "cell_type": "markdown",
   "metadata": {},
   "source": [
    "# Homework 10\n",
    "\n",
    "- Python Computing for Data Science (2016)\n",
    "\n",
    "- Due Monday November 28 (5pm)\n",
    "\n",
    "1) Write a module called ‘CalCalc’, with a method called ‘calculate’ that evaluates any string passed to it, and can be used from either the command line (using argparse with reasonable flags) or imported within Python. Feel free to use something like eval(), but be aware of some of the nasty things it can do, and make sure it doesn’t have too much power:  http://nedbatchelder.com/blog/201206/eval_really_is_dangerous.html\n",
    "\n",
    "EXAMPLE:\n",
    "```bash\n",
    "$ python CalCalc.py -s '34*28'\n",
    "$ 952\n",
    "```\n",
    " AND, from within Python\n",
    " \n",
    "```python\n",
    ">>> from CalCalc import calculate\n",
    ">>> calculate('34*20')\n",
    ">>> 952\n",
    "```\n",
    "1a) To make this more awesome, have your function interact with the Wolfram|Alpha API to ask it what it thinks of the difficult questions.  To make this work, experiment with urllib2 and a URL like this:\n",
    "'http://api.wolframalpha.com/v2/query?input=XXXXX&appid=UAGAWR-3X6Y8W777Q'\n",
    "where you replace the XXXXX with what you want to know.  NOTE: the ‘&appid=UAGAWR-3X6Y8W777Q’ part is vital; it is a W|A AppID I got for the class.  Feel free to use that one, or you can get your own and read more about the API, here:   http://products.wolframalpha.com/api/\n",
    "And you can explore how it works here:  http://products.wolframalpha.com/api/explorer.html\n",
    "\n",
    "EXAMPLE:\n",
    "```bash\n",
    "$ python CalCalc.py 'mass of the moon in kg'\n",
    "$  7.3459e+22\n",
    "```\n",
    "AND, from within Python\n",
    "```python\n",
    ">>> from CalCalc import calculate\n",
    ">>> calculate('mass of the moon in kg',  return_float=True) * 10\n",
    ">>> 7.3459e+23\n",
    "```"
   ]
  },
  {
   "cell_type": "code",
   "execution_count": 96,
   "metadata": {
    "collapsed": false
   },
   "outputs": [
    {
     "name": "stdout",
     "output_type": "stream",
     "text": [
      "Overwriting CalCalc.py\n"
     ]
    }
   ],
   "source": [
    "%%writefile CalCalc.py\n",
    "\n",
    "import argparse\n",
    "import urllib\n",
    "import urllib.request\n",
    "import xml.etree.ElementTree as ET\n",
    "\n",
    "parser = argparse.ArgumentParser(description='Sample Application')\n",
    "parser.add_argument('required_arg_1', help='This positional argument is required')\n",
    "\n",
    "results = parser.parse_args()\n",
    "incoming = results.required_arg_1\n",
    "\n",
    "words = incoming\n",
    "bits = (words.split(' '))\n",
    "query = ('+'.join(bits))\n",
    "\n",
    "url = \"http://api.wolframalpha.com/v2/query?input=\"+query+\"&appid=APLTT9-9WG78GYE65\"\n",
    "\n",
    "xml_data=urllib.request.urlopen(url).read()\n",
    "root = ET.fromstring(xml_data)\n",
    "\n",
    "    output = []\n",
    "    \n",
    "    for pt in root.findall('.//plaintext'):\n",
    "        if pt.text:\n",
    "            output.append(pt.text)\n",
    "    if \"=\" in output[0]: #sometimes result has original query, this gets rid of that\n",
    "        answer = output[0].split(\"=\")[-1]\n",
    "        print(answer)\n",
    "    elif len(output[1].split(\" \"))>2:\n",
    "        answer = output[1].split(\" \")[0]\n",
    "        if answer.find(\"×10^\") != -1: #changes scientific notation so python can read it (x10^ -> e)\n",
    "            parts = answer.split(\"×10^\")\n",
    "            return(float(parts[0]+\"e\"+parts[1]))\n",
    "    if output[1].find(\"...\") != -1: #deals with answers trailing with a '...' (like sqrts, pi)\n",
    "        shorter = output[1].split(\"...\")\n",
    "        return(float(shorter[0]))\n",
    "    else: \n",
    "        print(\"hey\")\n",
    "        return(float((output[1])))"
   ]
  },
  {
   "cell_type": "code",
   "execution_count": 98,
   "metadata": {
    "collapsed": false
   },
   "outputs": [],
   "source": [
    "import urllib\n",
    "import urllib.request\n",
    "import xml.etree.ElementTree as ET\n",
    "\n",
    "def calculate(query_string):\n",
    "    words = query_string\n",
    "    bits = (words.split(' '))\n",
    "    query = ('+'.join(bits))\n",
    "\n",
    "    url = \"http://api.wolframalpha.com/v2/query?input=\"+query+\"&appid=APLTT9-9WG78GYE65\"\n",
    "\n",
    "    xml_data=urllib.request.urlopen(url).read()\n",
    "    root = ET.fromstring(xml_data)\n",
    "\n",
    "    output = []\n",
    "    \n",
    "    for pt in root.findall('.//plaintext'):\n",
    "        if pt.text:\n",
    "            output.append(pt.text)\n",
    "    if \"=\" in output[0]: #sometimes result has original query, this gets rid of that\n",
    "        answer = output[0].split(\"=\")[-1]\n",
    "        print(answer)\n",
    "    elif len(output[1].split(\" \"))>2:\n",
    "        answer = output[1].split(\" \")[0]\n",
    "        if answer.find(\"×10^\") != -1: #changes scientific notation so python can read it (x10^ -> e)\n",
    "            parts = answer.split(\"×10^\")\n",
    "            return(float(parts[0]+\"e\"+parts[1]))\n",
    "    if output[1].find(\"...\") != -1: #deals with answers trailing with a '...' (like sqrts, pi)\n",
    "        shorter = output[1].split(\"...\")\n",
    "        return(float(shorter[0]))\n",
    "    else: \n",
    "        return(float((output[1])))\n"
   ]
  },
  {
   "cell_type": "code",
   "execution_count": 99,
   "metadata": {
    "collapsed": false
   },
   "outputs": [
    {
     "data": {
      "text/plain": [
       "4.0"
      ]
     },
     "execution_count": 99,
     "metadata": {},
     "output_type": "execute_result"
    }
   ],
   "source": [
    "def test_1():\n",
    "    assert abs(4. - calculate(‘2**2’)) < .001\n",
    "    \n",
    "def test_2():\n",
    "    assert type(calculate(\"mass of the moon in kg\")) == str\n",
    "    \n",
    "def test_3():\n",
    "    assert calculate(\"5x^3\") == \"15 x^2\"\n",
    "\n",
    "def test_4():\n",
    "    assert 1 < calculate(\"sqrt 3\") < 2\n",
    "    \n",
    "def test_5():\n",
    "    assert calculate(\"32*47\") == 1504"
   ]
  },
  {
   "cell_type": "markdown",
   "metadata": {},
   "source": [
    "2) Start a github project for CalCalc. Include a setup.py, README.txt, LICENSE.txt etc. and turn your module into a proper Python Distribution, so that we can install it and use it.  \n",
    "\n",
    "Example Folder Hierarchy:\n",
    "```bash\n",
    "Your_Homework1_Folder/calcalc\n",
    "                      |--> CalCalc.py\n",
    "                      |--> __init__.py\n",
    "Your_Homework1_Folder/setup.py\n",
    "Your_Homework1_Folder/README.txt\n",
    "```\n",
    "Include at least 5 test functions in CalCalc.py, and test with nosetest, to make sure it behaves the way you think it should.\n",
    "\n",
    "EXAMPLE CalCalc.py:\n",
    "```python\n",
    "# ...\n",
    "def calculate([...]):\n",
    "    [...]\n",
    "\n",
    "def test_1():\n",
    "    assert abs(4. - calculate(‘2**2’)) < .001\n",
    "```\n",
    "\n",
    "When grading, we will create a virtual environment and attempt to install your module by running:\n",
    "\n",
    "```bash\n",
    "python setup.py install\n",
    "```"
   ]
  },
  {
   "cell_type": "markdown",
   "metadata": {},
   "source": [
    "3) Get your project working with Travis and make sure your tests are run and pass."
   ]
  },
  {
   "cell_type": "markdown",
   "metadata": {},
   "source": [
    "3) **(Bonus/Extra Credit)** \n",
    "\n",
    "  Get your project working on Azure, AWS or Google Compute Cloud with a Flask front-end. Start a VM on one of these PaaS. A user should be able to submit their calcalc query on a form (hosted on your VM) and get the result back.\n",
    "\n",
    "You should be able to add an `app.py` (with Flask) into your CalCalc project. Be sure to open up the port on the VM that you are serving on."
   ]
  },
  {
   "cell_type": "code",
   "execution_count": null,
   "metadata": {
    "collapsed": false
   },
   "outputs": [],
   "source": []
  },
  {
   "cell_type": "code",
   "execution_count": null,
   "metadata": {
    "collapsed": false
   },
   "outputs": [],
   "source": []
  },
  {
   "cell_type": "code",
   "execution_count": null,
   "metadata": {
    "collapsed": false
   },
   "outputs": [],
   "source": []
  },
  {
   "cell_type": "code",
   "execution_count": null,
   "metadata": {
    "collapsed": true
   },
   "outputs": [],
   "source": []
  }
 ],
 "metadata": {
  "kernelspec": {
   "display_name": "Python [Root]",
   "language": "python",
   "name": "Python [Root]"
  },
  "language_info": {
   "codemirror_mode": {
    "name": "ipython",
    "version": 3
   },
   "file_extension": ".py",
   "mimetype": "text/x-python",
   "name": "python",
   "nbconvert_exporter": "python",
   "pygments_lexer": "ipython3",
   "version": "3.5.2"
  }
 },
 "nbformat": 4,
 "nbformat_minor": 0
}
